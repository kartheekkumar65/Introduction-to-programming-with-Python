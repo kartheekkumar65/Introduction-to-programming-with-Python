{
  "nbformat": 4,
  "nbformat_minor": 0,
  "metadata": {
    "colab": {
      "name": "doubt clarification 1.ipynb",
      "provenance": [],
      "collapsed_sections": []
    },
    "kernelspec": {
      "name": "python3",
      "display_name": "Python 3"
    },
    "language_info": {
      "name": "python"
    }
  },
  "cells": [
    {
      "cell_type": "markdown",
      "source": [
        "Q. Please explain the breaks in for loops and while loops"
      ],
      "metadata": {
        "id": "1rwYEqgdQI9D"
      }
    },
    {
      "cell_type": "markdown",
      "source": [
        "Ans: We will answer this question by solving a problem.\n",
        "Problem: Find the first prime number in a range [M, N] where M, N are user inputs."
      ],
      "metadata": {
        "id": "O2qpz0MRQVov"
      }
    },
    {
      "cell_type": "code",
      "source": [
        "M = int(input())\n",
        "N = int(input())\n",
        "\n",
        "\n",
        "for i in range(M, N+1):\n",
        "  # Now we have to check if i is a prime or not\n",
        "  A = True\n",
        "  for j in range(2, i):\n",
        "    if i % j == 0:\n",
        "      A = False\n",
        "      break\n",
        "  if A:\n",
        "    print(i)\n",
        "    break\n"
      ],
      "metadata": {
        "colab": {
          "base_uri": "https://localhost:8080/"
        },
        "id": "XGtxoqXfRAwK",
        "outputId": "630e8b9d-b342-41b5-d196-0bc6bdfeacbc"
      },
      "execution_count": 3,
      "outputs": [
        {
          "output_type": "stream",
          "name": "stdout",
          "text": [
            "4\n",
            "14\n",
            "5\n"
          ]
        }
      ]
    },
    {
      "cell_type": "markdown",
      "source": [
        "Q. Find all composite numbers in range [M, N]"
      ],
      "metadata": {
        "id": "O6H_YiJQTAvt"
      }
    },
    {
      "cell_type": "code",
      "source": [
        "M = int(input())\n",
        "N = int(input())\n",
        "\n",
        "for i in range(M, N+1):\n",
        "  A = True\n",
        "\n",
        "  # we are checking if i is prime or composite\n",
        "  for j in range(2, i):\n",
        "    if i % j == 0:\n",
        "      A = False\n",
        "      break\n",
        "  \n",
        "  if A == False:\n",
        "    print(i)\n"
      ],
      "metadata": {
        "id": "mR_5c3nyTpjL"
      },
      "execution_count": null,
      "outputs": []
    },
    {
      "cell_type": "code",
      "source": [
        "M = int(input())\n",
        "N = int(input())\n",
        "\n",
        "for i in range(M, N+1):\n",
        "  A = True\n",
        "\n",
        "  # we are checking if i is prime or composite\n",
        "  for j in range(2, i):\n",
        "    if i % j != 0:\n",
        "      continue\n",
        "    A = False\n",
        "  \n",
        "  if A == False:\n",
        "    print(i)"
      ],
      "metadata": {
        "colab": {
          "base_uri": "https://localhost:8080/"
        },
        "id": "LclqWvuzUxjW",
        "outputId": "56312957-c0bc-4ffd-e19b-a301427355b8"
      },
      "execution_count": 8,
      "outputs": [
        {
          "output_type": "stream",
          "name": "stdout",
          "text": [
            "4\n",
            "11\n",
            "4\n",
            "6\n",
            "8\n",
            "9\n",
            "10\n"
          ]
        }
      ]
    },
    {
      "cell_type": "markdown",
      "source": [
        "Q. How to find first prime number in given N numbers"
      ],
      "metadata": {
        "id": "19TRbJmVXDN6"
      }
    },
    {
      "cell_type": "code",
      "source": [
        "N = int(input())\n",
        "\n",
        "for i in range(N):\n",
        "  M = int(input())\n",
        "\n",
        "  # check if M is a prime or not\n",
        "  A = True\n",
        "  for j in range(2, M):\n",
        "    if M % j == 0:\n",
        "      A = False\n",
        "      break\n",
        "  \n",
        "  if A:\n",
        "    print(M)\n",
        "    break\n"
      ],
      "metadata": {
        "colab": {
          "base_uri": "https://localhost:8080/"
        },
        "id": "xJYVohATXIAk",
        "outputId": "9fb38273-f284-4748-a5dc-2eaf640313e3"
      },
      "execution_count": 10,
      "outputs": [
        {
          "output_type": "stream",
          "name": "stdout",
          "text": [
            "6\n",
            "6\n",
            "8\n",
            "9\n",
            "7\n",
            "7\n"
          ]
        }
      ]
    }
  ]
}