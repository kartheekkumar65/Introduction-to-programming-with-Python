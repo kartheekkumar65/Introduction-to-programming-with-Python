{
  "nbformat": 4,
  "nbformat_minor": 0,
  "metadata": {
    "colab": {
      "name": "doubt clarification 2.ipynb",
      "provenance": []
    },
    "kernelspec": {
      "name": "python3",
      "display_name": "Python 3"
    },
    "language_info": {
      "name": "python"
    }
  },
  "cells": [
    {
      "cell_type": "markdown",
      "source": [
        "Q. Print the given inputs until you encounter a multiple of 5."
      ],
      "metadata": {
        "id": "R7N5AoFzTydY"
      }
    },
    {
      "cell_type": "code",
      "execution_count": 1,
      "metadata": {
        "colab": {
          "base_uri": "https://localhost:8080/"
        },
        "id": "3Q89ygLWTbGn",
        "outputId": "2858882b-c679-4fd5-86ca-56bbb1dcd23b"
      },
      "outputs": [
        {
          "name": "stdout",
          "output_type": "stream",
          "text": [
            "5\n",
            "2\n",
            "2\n",
            "6\n",
            "6\n",
            "9\n",
            "9\n",
            "5\n"
          ]
        }
      ],
      "source": [
        "N = int(input())\n",
        "\n",
        "for i in range(N):\n",
        "  M = int(input())\n",
        "\n",
        "  # check if M is a multiple of 5\n",
        "  if M % 5 == 0:\n",
        "    break\n",
        "  else:\n",
        "    print(M)"
      ]
    },
    {
      "cell_type": "markdown",
      "source": [
        "Q. Print the multiples of 3 in given N integers"
      ],
      "metadata": {
        "id": "JVCj5O2bVp8G"
      }
    },
    {
      "cell_type": "code",
      "source": [
        "N = int(input())\n",
        "\n",
        "for i  in range(N):\n",
        "  M = int(input())\n",
        "\n",
        "  if M % 3 == 0:\n",
        "    print(M)"
      ],
      "metadata": {
        "colab": {
          "base_uri": "https://localhost:8080/"
        },
        "id": "dKgd1xwCV0lV",
        "outputId": "6e0f7011-8a49-4c89-f9da-5725dd4f42ed"
      },
      "execution_count": 2,
      "outputs": [
        {
          "name": "stdout",
          "output_type": "stream",
          "text": [
            "4\n",
            "5\n",
            "6\n",
            "6\n",
            "9\n",
            "9\n",
            "8\n"
          ]
        }
      ]
    },
    {
      "cell_type": "markdown",
      "source": [
        "Q. Count the even and odd numbers in a given range [M, N]\n"
      ],
      "metadata": {
        "id": "ualiRTuaWvki"
      }
    },
    {
      "cell_type": "code",
      "source": [
        "M = int(input())\n",
        "N = int(input())\n",
        "\n",
        "count = 0\n",
        "for i in range(M, N+1):\n",
        "  if i % 2 == 0:\n",
        "    count = count + 1\n",
        "\n",
        "print(count)\n",
        "\n",
        "if M < N:\n",
        "  num = N - M + 1\n",
        "  print(num - count)\n",
        "else:\n",
        "  num = 0\n",
        "  print(0)"
      ],
      "metadata": {
        "colab": {
          "base_uri": "https://localhost:8080/"
        },
        "id": "0XItAt75W3Ev",
        "outputId": "c5c4aac8-76d8-44d9-caf3-383736da7235"
      },
      "execution_count": 4,
      "outputs": [
        {
          "output_type": "stream",
          "name": "stdout",
          "text": [
            "2\n",
            "8\n",
            "4\n",
            "3\n"
          ]
        }
      ]
    },
    {
      "cell_type": "code",
      "source": [
        "M = int(input())\n",
        "N = int(input())\n",
        "\n",
        "count_even = 0; count_odd = 0;\n",
        "for i in range(M, N+1):\n",
        "  if i % 2 == 0:\n",
        "    count_even = count_even + 1\n",
        "  else:\n",
        "    count_odd = count_odd + 1\n",
        "\n",
        "print(count_even)\n",
        "print(count_odd)"
      ],
      "metadata": {
        "colab": {
          "base_uri": "https://localhost:8080/"
        },
        "id": "hbGsbIkpXxyP",
        "outputId": "37f27b45-4411-4b44-8bd5-c4bf1c788aae"
      },
      "execution_count": 5,
      "outputs": [
        {
          "output_type": "stream",
          "name": "stdout",
          "text": [
            "2\n",
            "8\n",
            "4\n",
            "3\n"
          ]
        }
      ]
    },
    {
      "cell_type": "markdown",
      "source": [
        "Q. Print characters of English in right triangle posture"
      ],
      "metadata": {
        "id": "chb6dhnoZCp5"
      }
    },
    {
      "cell_type": "code",
      "source": [
        "N = int(input())\n",
        "\n",
        "s = \"ABCDEFGHIJKLMNOPQRSTUVWXYZ\"\n",
        "\n",
        "\n",
        "for i in range(N):\n",
        "  s1 = \"\"\n",
        "  for j in range(i+1):\n",
        "    s1 = s1 + (s[j] + ' ')\n",
        "  print(s1)"
      ],
      "metadata": {
        "colab": {
          "base_uri": "https://localhost:8080/"
        },
        "id": "ojJuHkTHZB4m",
        "outputId": "ddf7ffbf-e68e-48a6-ae47-46b493737c71"
      },
      "execution_count": 11,
      "outputs": [
        {
          "output_type": "stream",
          "name": "stdout",
          "text": [
            "6\n",
            "A \n",
            "A B \n",
            "A B C \n",
            "A B C D \n",
            "A B C D E \n",
            "A B C D E F \n"
          ]
        }
      ]
    },
    {
      "cell_type": "code",
      "source": [
        "# using ASCII values\n",
        "N = int(input())\n",
        "\n",
        "A = 65\n",
        "for i in range(N):\n",
        "  s = \"\"\n",
        "  for j in range(i+1):\n",
        "    s = s + chr(A + j) + ' '\n",
        "  print(s)\n"
      ],
      "metadata": {
        "colab": {
          "base_uri": "https://localhost:8080/"
        },
        "id": "VuT4rtnCaokw",
        "outputId": "c5506dcc-6cf1-4f05-abc8-8ea98d83f9c4"
      },
      "execution_count": 16,
      "outputs": [
        {
          "output_type": "stream",
          "name": "stdout",
          "text": [
            "5\n",
            "A \n",
            "A B \n",
            "A B C \n",
            "A B C D \n",
            "A B C D E \n"
          ]
        }
      ]
    },
    {
      "cell_type": "code",
      "source": [
        "# Code writing guidelines\n",
        "\n",
        "# Method 1:\n",
        "isPrime = True\n",
        "\n",
        "# Method 2:\n",
        "is_prime = True"
      ],
      "metadata": {
        "id": "nBzKGhVDcfUZ"
      },
      "execution_count": null,
      "outputs": []
    },
    {
      "cell_type": "markdown",
      "source": [
        "Q. Convert the given string from Method 1 to Method 2"
      ],
      "metadata": {
        "id": "TkySD5koc9Bz"
      }
    },
    {
      "cell_type": "code",
      "source": [
        "# s = \"PythonLearningHere\"\n",
        "s = \"CamelCase\"\n",
        "\n",
        "s1 = \"\"\n",
        "for i in range(len(s)):\n",
        "  if s[i] == s[i].upper():\n",
        "    s1 = s1 + '_'\n",
        "  s1 = s1 + s[i]\n",
        "\n",
        "s1 = s1.lower()\n",
        "if s1[0] == '_':\n",
        "  s1 = s1[1:]\n",
        "print(s1)"
      ],
      "metadata": {
        "colab": {
          "base_uri": "https://localhost:8080/"
        },
        "id": "-sFuk29Ac7-M",
        "outputId": "b681a9c9-da79-411a-fd08-6149f72a3d1f"
      },
      "execution_count": 19,
      "outputs": [
        {
          "output_type": "stream",
          "name": "stdout",
          "text": [
            "camel_case\n"
          ]
        }
      ]
    }
  ]
}