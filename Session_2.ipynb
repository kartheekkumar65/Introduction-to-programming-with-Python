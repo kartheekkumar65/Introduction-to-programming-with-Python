{
  "nbformat": 4,
  "nbformat_minor": 0,
  "metadata": {
    "colab": {
      "name": "Session 2.ipynb",
      "provenance": [],
      "collapsed_sections": []
    },
    "kernelspec": {
      "name": "python3",
      "display_name": "Python 3"
    },
    "language_info": {
      "name": "python"
    }
  },
  "cells": [
    {
      "cell_type": "markdown",
      "source": [
        "### Modulus operation"
      ],
      "metadata": {
        "id": "4UZScTlp2Na0"
      }
    },
    {
      "cell_type": "code",
      "execution_count": null,
      "metadata": {
        "colab": {
          "base_uri": "https://localhost:8080/"
        },
        "id": "neExQcWl1_PE",
        "outputId": "16c88636-4da1-4e3d-dde1-c4af0c1be177"
      },
      "outputs": [
        {
          "output_type": "execute_result",
          "data": {
            "text/plain": [
              "4"
            ]
          },
          "metadata": {},
          "execution_count": 1
        }
      ],
      "source": [
        "34 % 6"
      ]
    },
    {
      "cell_type": "code",
      "source": [
        "123453 % 234"
      ],
      "metadata": {
        "colab": {
          "base_uri": "https://localhost:8080/"
        },
        "id": "pY4WP7_L2xrb",
        "outputId": "f646f3fc-22fb-4e7d-fc52-1eba87a354aa"
      },
      "execution_count": null,
      "outputs": [
        {
          "output_type": "execute_result",
          "data": {
            "text/plain": [
              "135"
            ]
          },
          "metadata": {},
          "execution_count": 2
        }
      ]
    },
    {
      "cell_type": "markdown",
      "source": [
        "### Exponents"
      ],
      "metadata": {
        "id": "dCQaVSMD27JJ"
      }
    },
    {
      "cell_type": "code",
      "source": [
        "2 ** 4  # 2 raised to the power 4"
      ],
      "metadata": {
        "colab": {
          "base_uri": "https://localhost:8080/"
        },
        "id": "S17NyQQw26UB",
        "outputId": "2d09e59c-f7ca-44af-bdec-8489060d089d"
      },
      "execution_count": null,
      "outputs": [
        {
          "output_type": "execute_result",
          "data": {
            "text/plain": [
              "16"
            ]
          },
          "metadata": {},
          "execution_count": 3
        }
      ]
    },
    {
      "cell_type": "code",
      "source": [
        "234 ** 123"
      ],
      "metadata": {
        "colab": {
          "base_uri": "https://localhost:8080/"
        },
        "id": "GzG6_1Wt3I8x",
        "outputId": "db792340-4139-4020-fb77-61f7c3d47c9e"
      },
      "execution_count": null,
      "outputs": [
        {
          "output_type": "execute_result",
          "data": {
            "text/plain": [
              "2591495514330811463517709880217839559706084417805823728052532618090287156161761379866807935133816391840996727989554909192489033344614984624210141436210516217232746250724250378953402460057610397185951213493822064556237382363828121035989661190802640588905988141381014085430056382104175172911104"
            ]
          },
          "metadata": {},
          "execution_count": 4
        }
      ]
    },
    {
      "cell_type": "code",
      "source": [
        "print('%.4e' % (234 ** 123) )"
      ],
      "metadata": {
        "colab": {
          "base_uri": "https://localhost:8080/"
        },
        "id": "vRL6tHfp3T3c",
        "outputId": "56a6860a-a336-4032-9cef-f20c312de5fc"
      },
      "execution_count": null,
      "outputs": [
        {
          "output_type": "stream",
          "name": "stdout",
          "text": [
            "2.5915e+291\n"
          ]
        }
      ]
    },
    {
      "cell_type": "code",
      "source": [
        "# What is the square root 36\n",
        "36 ** 0.5"
      ],
      "metadata": {
        "colab": {
          "base_uri": "https://localhost:8080/"
        },
        "id": "QElbrdkN3r44",
        "outputId": "63b40924-9542-4d1a-f82d-fdd52644e309"
      },
      "execution_count": null,
      "outputs": [
        {
          "output_type": "execute_result",
          "data": {
            "text/plain": [
              "6.0"
            ]
          },
          "metadata": {},
          "execution_count": 6
        }
      ]
    },
    {
      "cell_type": "code",
      "source": [
        "27 ** (1/3)"
      ],
      "metadata": {
        "colab": {
          "base_uri": "https://localhost:8080/"
        },
        "id": "2LpSmtjJ34jz",
        "outputId": "238577eb-5a66-4c11-8cfd-49d6cad09d55"
      },
      "execution_count": null,
      "outputs": [
        {
          "output_type": "execute_result",
          "data": {
            "text/plain": [
              "3.0"
            ]
          },
          "metadata": {},
          "execution_count": 7
        }
      ]
    },
    {
      "cell_type": "markdown",
      "source": [
        "Q. How can I run the lenghty codes?"
      ],
      "metadata": {
        "id": "0JGTZ6_54NiH"
      }
    },
    {
      "cell_type": "markdown",
      "source": [
        "Ans: Code can always be split into multiple cells"
      ],
      "metadata": {
        "id": "KEBrmYvg4cPR"
      }
    },
    {
      "cell_type": "markdown",
      "source": [
        "## Applications of Python"
      ],
      "metadata": {
        "id": "lBrPCbVY4huT"
      }
    },
    {
      "cell_type": "markdown",
      "source": [
        "\n",
        "\n",
        "*   Artificial Intelligence\n",
        "*   Machine Learning\n",
        "*   Handling Big Data\n",
        "*   Smart devices\n",
        "*   Cyber Security\n",
        "*   Bot development\n",
        "*   Game development\n",
        "*   Backend development\n",
        "\n"
      ],
      "metadata": {
        "id": "ETfIuU244mUE"
      }
    },
    {
      "cell_type": "markdown",
      "source": [
        "## Career Oppurtunities\n",
        "\n",
        "\n",
        "\n",
        "*   Software Developer\n",
        "*   Machine Learning Engineer\n",
        "*   Research Scientist (AI)\n",
        "*   Applied Scientist \n",
        "*   Data Analysts / Scientists \n",
        "\n"
      ],
      "metadata": {
        "id": "X54WKHop6QIQ"
      }
    },
    {
      "cell_type": "markdown",
      "source": [
        "## Variables and data types"
      ],
      "metadata": {
        "id": "pyYj_K7F9jz_"
      }
    },
    {
      "cell_type": "code",
      "source": [
        "name = \"kartheek\""
      ],
      "metadata": {
        "id": "uUeOBiIx9sVB"
      },
      "execution_count": null,
      "outputs": []
    },
    {
      "cell_type": "code",
      "source": [
        "print(name)"
      ],
      "metadata": {
        "colab": {
          "base_uri": "https://localhost:8080/"
        },
        "id": "qje06eqG-KA9",
        "outputId": "335e2efa-a0a0-49c4-f041-6f78f05ac249"
      },
      "execution_count": null,
      "outputs": [
        {
          "output_type": "stream",
          "name": "stdout",
          "text": [
            "kartheek\n"
          ]
        }
      ]
    },
    {
      "cell_type": "code",
      "source": [
        "a = 8\n",
        "type(a)"
      ],
      "metadata": {
        "colab": {
          "base_uri": "https://localhost:8080/"
        },
        "id": "90fnV_e--Oqp",
        "outputId": "f9580ea4-4154-4b32-e681-bb3d850041ae"
      },
      "execution_count": null,
      "outputs": [
        {
          "output_type": "execute_result",
          "data": {
            "text/plain": [
              "int"
            ]
          },
          "metadata": {},
          "execution_count": 11
        }
      ]
    },
    {
      "cell_type": "code",
      "source": [
        "type(name)"
      ],
      "metadata": {
        "colab": {
          "base_uri": "https://localhost:8080/"
        },
        "id": "XVdKzN0h-ZA6",
        "outputId": "2512422a-f309-4ee2-a05e-d8f5321ae4f0"
      },
      "execution_count": null,
      "outputs": [
        {
          "output_type": "execute_result",
          "data": {
            "text/plain": [
              "str"
            ]
          },
          "metadata": {},
          "execution_count": 12
        }
      ]
    },
    {
      "cell_type": "markdown",
      "source": [
        "### Data types"
      ],
      "metadata": {
        "id": "RI7iTz5p-e8V"
      }
    },
    {
      "cell_type": "markdown",
      "source": [
        "Strings\n",
        "\n",
        "\n",
        "1.   Capital Letters (A - Z)\n",
        "2.   Small Letters (a - z)\n",
        "3.   Digits (0 - 9)\n",
        "4.   Special Characters (~!@#$%^&?',.)\n",
        "5.   Space \n",
        "\n"
      ],
      "metadata": {
        "id": "__rWmYQ_-qLU"
      }
    },
    {
      "cell_type": "code",
      "source": [
        "\"Hello World!\""
      ],
      "metadata": {
        "id": "mTlysszP-hoc",
        "colab": {
          "base_uri": "https://localhost:8080/",
          "height": 36
        },
        "outputId": "3099ddae-572d-440f-84e7-4ab8e8e94f05"
      },
      "execution_count": 15,
      "outputs": [
        {
          "output_type": "execute_result",
          "data": {
            "text/plain": [
              "'Hello World!'"
            ],
            "application/vnd.google.colaboratory.intrinsic+json": {
              "type": "string"
            }
          },
          "metadata": {},
          "execution_count": 15
        }
      ]
    },
    {
      "cell_type": "code",
      "source": [
        "# single character also a string\n",
        "\"A\""
      ],
      "metadata": {
        "colab": {
          "base_uri": "https://localhost:8080/",
          "height": 36
        },
        "id": "dwSzJopIA4T1",
        "outputId": "0502472c-3a74-4bb8-cdb1-3ae0bcb6be9f"
      },
      "execution_count": 16,
      "outputs": [
        {
          "output_type": "execute_result",
          "data": {
            "text/plain": [
              "'A'"
            ],
            "application/vnd.google.colaboratory.intrinsic+json": {
              "type": "string"
            }
          },
          "metadata": {},
          "execution_count": 16
        }
      ]
    },
    {
      "cell_type": "code",
      "source": [
        "# Double or single quotes can be used, but with consistency\n",
        "'python'"
      ],
      "metadata": {
        "colab": {
          "base_uri": "https://localhost:8080/",
          "height": 36
        },
        "id": "bPB_a5rYA7kH",
        "outputId": "49d66073-3345-49b2-e56a-28d389ce93e0"
      },
      "execution_count": 17,
      "outputs": [
        {
          "output_type": "execute_result",
          "data": {
            "text/plain": [
              "'python'"
            ],
            "application/vnd.google.colaboratory.intrinsic+json": {
              "type": "string"
            }
          },
          "metadata": {},
          "execution_count": 17
        }
      ]
    },
    {
      "cell_type": "code",
      "source": [
        "\"python here I come'"
      ],
      "metadata": {
        "colab": {
          "base_uri": "https://localhost:8080/",
          "height": 134
        },
        "id": "BdFN_AdCBD7H",
        "outputId": "31c18cab-3d2a-448d-d1f0-a648c79e78f9"
      },
      "execution_count": 18,
      "outputs": [
        {
          "output_type": "error",
          "ename": "SyntaxError",
          "evalue": "ignored",
          "traceback": [
            "\u001b[0;36m  File \u001b[0;32m\"<ipython-input-18-d64cf80c451c>\"\u001b[0;36m, line \u001b[0;32m1\u001b[0m\n\u001b[0;31m    \"python here I come'\u001b[0m\n\u001b[0m                        ^\u001b[0m\n\u001b[0;31mSyntaxError\u001b[0m\u001b[0;31m:\u001b[0m EOL while scanning string literal\n"
          ]
        }
      ]
    },
    {
      "cell_type": "code",
      "source": [
        "\"Father says 'I bought a gift' to Julia\""
      ],
      "metadata": {
        "colab": {
          "base_uri": "https://localhost:8080/",
          "height": 36
        },
        "id": "tKJITIcCBK3c",
        "outputId": "3c24d42e-002b-4900-ef69-66b01d6ee818"
      },
      "execution_count": 19,
      "outputs": [
        {
          "output_type": "execute_result",
          "data": {
            "text/plain": [
              "\"Father says 'I bought a gift' to Julia\""
            ],
            "application/vnd.google.colaboratory.intrinsic+json": {
              "type": "string"
            }
          },
          "metadata": {},
          "execution_count": 19
        }
      ]
    },
    {
      "cell_type": "code",
      "source": [
        "\"\"A new movie came to bangalore\", says raghu\""
      ],
      "metadata": {
        "colab": {
          "base_uri": "https://localhost:8080/",
          "height": 134
        },
        "id": "kL05rquhBZXa",
        "outputId": "c78e1891-97a8-4c31-ee36-b6bf03de7417"
      },
      "execution_count": 20,
      "outputs": [
        {
          "output_type": "error",
          "ename": "SyntaxError",
          "evalue": "ignored",
          "traceback": [
            "\u001b[0;36m  File \u001b[0;32m\"<ipython-input-20-378045bb85ec>\"\u001b[0;36m, line \u001b[0;32m1\u001b[0m\n\u001b[0;31m    \"\"A new movie came to bangalore\", says raghu\"\u001b[0m\n\u001b[0m      ^\u001b[0m\n\u001b[0;31mSyntaxError\u001b[0m\u001b[0;31m:\u001b[0m invalid syntax\n"
          ]
        }
      ]
    },
    {
      "cell_type": "code",
      "source": [
        "'\"A new movie came to bangalore\", says raghu'"
      ],
      "metadata": {
        "colab": {
          "base_uri": "https://localhost:8080/",
          "height": 36
        },
        "id": "rAVLpThkBnRa",
        "outputId": "d50fc84d-f49e-4186-dc2b-2655467f8344"
      },
      "execution_count": 21,
      "outputs": [
        {
          "output_type": "execute_result",
          "data": {
            "text/plain": [
              "'\"A new movie came to bangalore\", says raghu'"
            ],
            "application/vnd.google.colaboratory.intrinsic+json": {
              "type": "string"
            }
          },
          "metadata": {},
          "execution_count": 21
        }
      ]
    },
    {
      "cell_type": "markdown",
      "source": [
        "Integers \\\\\n",
        "countable, -3, -2, -1, 0, 1, 2, 3, ..."
      ],
      "metadata": {
        "id": "M7vmp70XBuLP"
      }
    },
    {
      "cell_type": "markdown",
      "source": [
        "Float \\\\\n",
        "2.4, 6.87, -1.45, 9.0"
      ],
      "metadata": {
        "id": "Fz1uBfObB58n"
      }
    },
    {
      "cell_type": "markdown",
      "source": [
        "Boolean \\\\\n",
        "True, False  \n",
        "Yes, No \\\\\n",
        "0 and 1 \\\\\n"
      ],
      "metadata": {
        "id": "tJ0HjQsqCAr0"
      }
    },
    {
      "cell_type": "markdown",
      "source": [
        "Q. Can we use 0 and 1 as an alternative to False and True, respectively?"
      ],
      "metadata": {
        "id": "ymdjeAl0CmSo"
      }
    },
    {
      "cell_type": "code",
      "source": [
        "# Strings\n",
        "a = '6'\n",
        "type(a)"
      ],
      "metadata": {
        "colab": {
          "base_uri": "https://localhost:8080/"
        },
        "id": "TNfrGYHqCRvQ",
        "outputId": "105a53f0-5605-4817-83af-ada988d65593"
      },
      "execution_count": 22,
      "outputs": [
        {
          "output_type": "execute_result",
          "data": {
            "text/plain": [
              "str"
            ]
          },
          "metadata": {},
          "execution_count": 22
        }
      ]
    },
    {
      "cell_type": "code",
      "source": [
        "b = 2.5\n",
        "type(b)"
      ],
      "metadata": {
        "colab": {
          "base_uri": "https://localhost:8080/"
        },
        "id": "tr6zG-4sCbpr",
        "outputId": "2911b8af-0a37-47dd-ade2-0322ea1aa99c"
      },
      "execution_count": 24,
      "outputs": [
        {
          "output_type": "execute_result",
          "data": {
            "text/plain": [
              "float"
            ]
          },
          "metadata": {},
          "execution_count": 24
        }
      ]
    },
    {
      "cell_type": "code",
      "source": [
        "c = True\n",
        "type(c)"
      ],
      "metadata": {
        "colab": {
          "base_uri": "https://localhost:8080/"
        },
        "id": "IPHRopGiCtYu",
        "outputId": "058eac75-3978-4af4-ad60-85ac2098613c"
      },
      "execution_count": 25,
      "outputs": [
        {
          "output_type": "execute_result",
          "data": {
            "text/plain": [
              "bool"
            ]
          },
          "metadata": {},
          "execution_count": 25
        }
      ]
    },
    {
      "cell_type": "markdown",
      "source": [
        "Ans. Lets try this in a if condition"
      ],
      "metadata": {
        "id": "WUaJGorOC3bH"
      }
    },
    {
      "cell_type": "code",
      "source": [
        "if c == True:\n",
        "  print(\"c is True\")"
      ],
      "metadata": {
        "colab": {
          "base_uri": "https://localhost:8080/"
        },
        "id": "MJuFzzVNC7K8",
        "outputId": "d8004942-053c-4046-b5aa-af4e33a8c07a"
      },
      "execution_count": 26,
      "outputs": [
        {
          "output_type": "stream",
          "name": "stdout",
          "text": [
            "c is True\n"
          ]
        }
      ]
    },
    {
      "cell_type": "code",
      "source": [
        "if True:\n",
        "  print(\"True is True\")"
      ],
      "metadata": {
        "colab": {
          "base_uri": "https://localhost:8080/"
        },
        "id": "m1jo5Bv7DSdl",
        "outputId": "6d0d66f0-04e5-4d41-d4ff-9639429b8e0f"
      },
      "execution_count": 27,
      "outputs": [
        {
          "output_type": "stream",
          "name": "stdout",
          "text": [
            "True is True\n"
          ]
        }
      ]
    },
    {
      "cell_type": "code",
      "source": [
        "if 1:\n",
        "  print(\"1 stands for True\")\n",
        "else:\n",
        "  print(\"1 doesn't stands for True\")"
      ],
      "metadata": {
        "colab": {
          "base_uri": "https://localhost:8080/"
        },
        "id": "fS3MOBGmDCZu",
        "outputId": "105f493f-046e-4f22-a7a6-0ffdb761753c"
      },
      "execution_count": 28,
      "outputs": [
        {
          "output_type": "stream",
          "name": "stdout",
          "text": [
            "1 stands for True\n"
          ]
        }
      ]
    }
  ]
}