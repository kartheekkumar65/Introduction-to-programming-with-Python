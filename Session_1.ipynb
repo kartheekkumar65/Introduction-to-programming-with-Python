{
  "nbformat": 4,
  "nbformat_minor": 0,
  "metadata": {
    "colab": {
      "name": "Session 1.ipynb",
      "provenance": [],
      "collapsed_sections": []
    },
    "kernelspec": {
      "name": "python3",
      "display_name": "Python 3"
    },
    "language_info": {
      "name": "python"
    }
  },
  "cells": [
    {
      "cell_type": "markdown",
      "source": [
        "# Session 1"
      ],
      "metadata": {
        "id": "Y0XQNgmczAcC"
      }
    },
    {
      "cell_type": "code",
      "execution_count": 1,
      "metadata": {
        "colab": {
          "base_uri": "https://localhost:8080/"
        },
        "id": "otFI-WjXwNzZ",
        "outputId": "a2009444-9cce-492e-8360-b58e57426331"
      },
      "outputs": [
        {
          "output_type": "stream",
          "name": "stdout",
          "text": [
            "Hello World!!\n"
          ]
        }
      ],
      "source": [
        "print(\"Hello World!!\")"
      ]
    },
    {
      "cell_type": "code",
      "source": [
        "prnt(\"Hello World!!\")"
      ],
      "metadata": {
        "colab": {
          "base_uri": "https://localhost:8080/",
          "height": 171
        },
        "id": "LNXtcQ_MzvHx",
        "outputId": "7a5674ad-40f9-43da-c580-e52543334f7d"
      },
      "execution_count": 2,
      "outputs": [
        {
          "output_type": "error",
          "ename": "NameError",
          "evalue": "ignored",
          "traceback": [
            "\u001b[0;31m---------------------------------------------------------------------------\u001b[0m",
            "\u001b[0;31mNameError\u001b[0m                                 Traceback (most recent call last)",
            "\u001b[0;32m<ipython-input-2-ebd3d06c297a>\u001b[0m in \u001b[0;36m<module>\u001b[0;34m()\u001b[0m\n\u001b[0;32m----> 1\u001b[0;31m \u001b[0mprnt\u001b[0m\u001b[0;34m(\u001b[0m\u001b[0;34m\"Hello World!!\"\u001b[0m\u001b[0;34m)\u001b[0m\u001b[0;34m\u001b[0m\u001b[0;34m\u001b[0m\u001b[0m\n\u001b[0m",
            "\u001b[0;31mNameError\u001b[0m: name 'prnt' is not defined"
          ]
        }
      ]
    },
    {
      "cell_type": "code",
      "source": [
        ""
      ],
      "metadata": {
        "id": "h0AE_RVk0Uyq"
      },
      "execution_count": null,
      "outputs": []
    },
    {
      "cell_type": "markdown",
      "source": [
        "## Python as a calculator"
      ],
      "metadata": {
        "id": "fCBRRyb40elh"
      }
    },
    {
      "cell_type": "markdown",
      "source": [
        "### Addition"
      ],
      "metadata": {
        "id": "aNaTMcef014F"
      }
    },
    {
      "cell_type": "code",
      "source": [
        "3 + 4"
      ],
      "metadata": {
        "colab": {
          "base_uri": "https://localhost:8080/"
        },
        "id": "p2ozBP5R0rc6",
        "outputId": "20d19a52-10dd-446b-d4e8-63251d2777d2"
      },
      "execution_count": 3,
      "outputs": [
        {
          "output_type": "execute_result",
          "data": {
            "text/plain": [
              "7"
            ]
          },
          "metadata": {},
          "execution_count": 3
        }
      ]
    },
    {
      "cell_type": "code",
      "source": [
        "3455 + 677884"
      ],
      "metadata": {
        "colab": {
          "base_uri": "https://localhost:8080/"
        },
        "id": "WKaHHeDd1IIj",
        "outputId": "feafd129-fcca-4334-f78e-902e4e89aedf"
      },
      "execution_count": 4,
      "outputs": [
        {
          "output_type": "execute_result",
          "data": {
            "text/plain": [
              "681339"
            ]
          },
          "metadata": {},
          "execution_count": 4
        }
      ]
    },
    {
      "cell_type": "code",
      "source": [
        "31 + 48"
      ],
      "metadata": {
        "colab": {
          "base_uri": "https://localhost:8080/"
        },
        "id": "KoThdGMQ1Rg1",
        "outputId": "7486980d-cd78-4129-a34b-48fc0dacc33a"
      },
      "execution_count": 6,
      "outputs": [
        {
          "output_type": "execute_result",
          "data": {
            "text/plain": [
              "79"
            ]
          },
          "metadata": {},
          "execution_count": 6
        }
      ]
    },
    {
      "cell_type": "markdown",
      "source": [
        "### Substraction"
      ],
      "metadata": {
        "id": "IYRlrfFS1jn7"
      }
    },
    {
      "cell_type": "code",
      "source": [
        "4 - 6"
      ],
      "metadata": {
        "colab": {
          "base_uri": "https://localhost:8080/"
        },
        "id": "ugRIOngD1Xar",
        "outputId": "3443ece7-64fd-4a6e-ffe6-23fdb7fa3b4b"
      },
      "execution_count": 7,
      "outputs": [
        {
          "output_type": "execute_result",
          "data": {
            "text/plain": [
              "-2"
            ]
          },
          "metadata": {},
          "execution_count": 7
        }
      ]
    },
    {
      "cell_type": "code",
      "source": [
        "34 - 23"
      ],
      "metadata": {
        "colab": {
          "base_uri": "https://localhost:8080/"
        },
        "id": "OZAF67up1w7e",
        "outputId": "78a428e3-db32-4c59-aa5e-709112534738"
      },
      "execution_count": 8,
      "outputs": [
        {
          "output_type": "execute_result",
          "data": {
            "text/plain": [
              "11"
            ]
          },
          "metadata": {},
          "execution_count": 8
        }
      ]
    },
    {
      "cell_type": "code",
      "source": [
        "2345 - 1758"
      ],
      "metadata": {
        "colab": {
          "base_uri": "https://localhost:8080/"
        },
        "id": "lJkZkCs414-p",
        "outputId": "2e058356-eec8-4308-ed64-fce97a5f988f"
      },
      "execution_count": 9,
      "outputs": [
        {
          "output_type": "execute_result",
          "data": {
            "text/plain": [
              "587"
            ]
          },
          "metadata": {},
          "execution_count": 9
        }
      ]
    },
    {
      "cell_type": "markdown",
      "source": [
        "### Multiplication"
      ],
      "metadata": {
        "id": "iiftgpia2Igk"
      }
    },
    {
      "cell_type": "code",
      "source": [
        "3 * 2"
      ],
      "metadata": {
        "colab": {
          "base_uri": "https://localhost:8080/"
        },
        "id": "S2hyxmIJ2LXz",
        "outputId": "72d8f17d-48e6-4e1d-d993-5472fda2ebbd"
      },
      "execution_count": 10,
      "outputs": [
        {
          "output_type": "execute_result",
          "data": {
            "text/plain": [
              "6"
            ]
          },
          "metadata": {},
          "execution_count": 10
        }
      ]
    },
    {
      "cell_type": "code",
      "source": [
        "4 * 5\n",
        "2 * 6"
      ],
      "metadata": {
        "colab": {
          "base_uri": "https://localhost:8080/"
        },
        "id": "wQVsjF1X2Oa9",
        "outputId": "956b3fbc-f13a-43ca-ee7a-d0748371ef24"
      },
      "execution_count": 11,
      "outputs": [
        {
          "output_type": "execute_result",
          "data": {
            "text/plain": [
              "12"
            ]
          },
          "metadata": {},
          "execution_count": 11
        }
      ]
    },
    {
      "cell_type": "code",
      "source": [
        "print(4 * 5)\n",
        "print(2 * 6)"
      ],
      "metadata": {
        "colab": {
          "base_uri": "https://localhost:8080/"
        },
        "id": "OelI9gMh2pee",
        "outputId": "465e486e-232f-41be-adf7-d35179a1857a"
      },
      "execution_count": 12,
      "outputs": [
        {
          "output_type": "stream",
          "name": "stdout",
          "text": [
            "20\n",
            "12\n"
          ]
        }
      ]
    },
    {
      "cell_type": "markdown",
      "source": [
        "### Division"
      ],
      "metadata": {
        "id": "sEcYAZP620zM"
      }
    },
    {
      "cell_type": "code",
      "source": [
        "40 / 8"
      ],
      "metadata": {
        "colab": {
          "base_uri": "https://localhost:8080/"
        },
        "id": "QNQ3xPr823di",
        "outputId": "85dd1701-37a3-40b8-d71e-ffb9239beb7b"
      },
      "execution_count": 13,
      "outputs": [
        {
          "output_type": "execute_result",
          "data": {
            "text/plain": [
              "5.0"
            ]
          },
          "metadata": {},
          "execution_count": 13
        }
      ]
    },
    {
      "cell_type": "code",
      "source": [
        "34 / 6"
      ],
      "metadata": {
        "colab": {
          "base_uri": "https://localhost:8080/"
        },
        "id": "OPvU5c1G2_Es",
        "outputId": "73b44287-e679-41e0-f01a-a49f233b70b4"
      },
      "execution_count": 14,
      "outputs": [
        {
          "output_type": "execute_result",
          "data": {
            "text/plain": [
              "5.666666666666667"
            ]
          },
          "metadata": {},
          "execution_count": 14
        }
      ]
    },
    {
      "cell_type": "code",
      "source": [
        "72 / 5"
      ],
      "metadata": {
        "colab": {
          "base_uri": "https://localhost:8080/"
        },
        "id": "m5lYrjFU3Cgb",
        "outputId": "b073832c-4cc5-4aa9-c516-bc0cd9b41e73"
      },
      "execution_count": 15,
      "outputs": [
        {
          "output_type": "execute_result",
          "data": {
            "text/plain": [
              "14.4"
            ]
          },
          "metadata": {},
          "execution_count": 15
        }
      ]
    },
    {
      "cell_type": "markdown",
      "source": [
        "Q. How do we get the quotient?"
      ],
      "metadata": {
        "id": "CIC4FOQD3eBr"
      }
    },
    {
      "cell_type": "markdown",
      "source": [
        "Ans: 1. Type casting = change the type\n",
        "Ex: change floating point number into integer, change integer into string"
      ],
      "metadata": {
        "id": "AoEPnBS33moi"
      }
    },
    {
      "cell_type": "code",
      "source": [
        "int(40 / 8)"
      ],
      "metadata": {
        "colab": {
          "base_uri": "https://localhost:8080/"
        },
        "id": "srVTTfo73h_1",
        "outputId": "f4af4d6d-9903-4655-8477-369b68386a1c"
      },
      "execution_count": 16,
      "outputs": [
        {
          "output_type": "execute_result",
          "data": {
            "text/plain": [
              "5"
            ]
          },
          "metadata": {},
          "execution_count": 16
        }
      ]
    },
    {
      "cell_type": "code",
      "source": [
        "int(72 / 5)"
      ],
      "metadata": {
        "colab": {
          "base_uri": "https://localhost:8080/"
        },
        "id": "7Sp-m6IG33PD",
        "outputId": "d70c6abc-9143-48a7-d848-c7045729b130"
      },
      "execution_count": 18,
      "outputs": [
        {
          "output_type": "execute_result",
          "data": {
            "text/plain": [
              "14"
            ]
          },
          "metadata": {},
          "execution_count": 18
        }
      ]
    },
    {
      "cell_type": "markdown",
      "source": [
        "Ans 2. Quotient operator (//)"
      ],
      "metadata": {
        "id": "4EEP9bmb3-C5"
      }
    },
    {
      "cell_type": "code",
      "source": [
        "40 // 8"
      ],
      "metadata": {
        "colab": {
          "base_uri": "https://localhost:8080/"
        },
        "id": "LYeItJp_4CoK",
        "outputId": "395ab575-b5b7-40b7-ed39-a809246531f3"
      },
      "execution_count": 19,
      "outputs": [
        {
          "output_type": "execute_result",
          "data": {
            "text/plain": [
              "5"
            ]
          },
          "metadata": {},
          "execution_count": 19
        }
      ]
    },
    {
      "cell_type": "markdown",
      "source": [
        "Q. How do we get fraction upto certain precision?"
      ],
      "metadata": {
        "id": "k0YQmptZ4OVV"
      }
    },
    {
      "cell_type": "markdown",
      "source": [
        "Ans. Use round() function"
      ],
      "metadata": {
        "id": "WWB___7N4Sv4"
      }
    },
    {
      "cell_type": "code",
      "source": [
        "round(34 / 6, 2)"
      ],
      "metadata": {
        "colab": {
          "base_uri": "https://localhost:8080/"
        },
        "id": "7jc7huqs4VcA",
        "outputId": "19571cf1-b56b-4214-e9f9-32746c608603"
      },
      "execution_count": 21,
      "outputs": [
        {
          "output_type": "execute_result",
          "data": {
            "text/plain": [
              "5.67"
            ]
          },
          "metadata": {},
          "execution_count": 21
        }
      ]
    },
    {
      "cell_type": "markdown",
      "source": [
        "Q. How do we print / show zeros after the decimal?"
      ],
      "metadata": {
        "id": "s4GcM43945mU"
      }
    },
    {
      "cell_type": "markdown",
      "source": [
        "Ans. string formatting, use 1. f'' 2. %"
      ],
      "metadata": {
        "id": "sQnYej2r4_ow"
      }
    },
    {
      "cell_type": "code",
      "source": [
        "print(f'{round(72/5, 2): .2f}')"
      ],
      "metadata": {
        "colab": {
          "base_uri": "https://localhost:8080/"
        },
        "id": "40HrBPKq4iVh",
        "outputId": "94dcef12-2821-46f3-97dd-c3cf9fc4dd2e"
      },
      "execution_count": 24,
      "outputs": [
        {
          "output_type": "stream",
          "name": "stdout",
          "text": [
            " 14.40\n"
          ]
        }
      ]
    },
    {
      "cell_type": "code",
      "source": [
        "print('%.2f' %(72/5))\n",
        "# C - printf(\"%.2f\", 72/5)"
      ],
      "metadata": {
        "colab": {
          "base_uri": "https://localhost:8080/"
        },
        "id": "39XsBvyd5mKY",
        "outputId": "3b6908b7-70be-44a1-dcba-dc57a6093e74"
      },
      "execution_count": 25,
      "outputs": [
        {
          "output_type": "stream",
          "name": "stdout",
          "text": [
            "14.40\n"
          ]
        }
      ]
    },
    {
      "cell_type": "markdown",
      "source": [
        "Q. How do we access the colab? "
      ],
      "metadata": {
        "id": "5Sv2JT5Y66zv"
      }
    },
    {
      "cell_type": "markdown",
      "source": [
        "Ans: https://colab.research.google.com/"
      ],
      "metadata": {
        "id": "84aeZTYg7Hmu"
      }
    },
    {
      "cell_type": "markdown",
      "source": [
        "Q. Course outline? "
      ],
      "metadata": {
        "id": "bXY_Bwm27NJv"
      }
    },
    {
      "cell_type": "markdown",
      "source": [
        "Ans. Will share tomorrow"
      ],
      "metadata": {
        "id": "40v8rONc7Ze-"
      }
    },
    {
      "cell_type": "code",
      "source": [
        ""
      ],
      "metadata": {
        "id": "MyH0GQH_6R5C"
      },
      "execution_count": null,
      "outputs": []
    }
  ]
}