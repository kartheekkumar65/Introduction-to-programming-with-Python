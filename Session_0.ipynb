{
  "nbformat": 4,
  "nbformat_minor": 0,
  "metadata": {
    "colab": {
      "name": "Session 1.ipynb",
      "provenance": [],
      "collapsed_sections": []
    },
    "kernelspec": {
      "name": "python3",
      "display_name": "Python 3"
    },
    "language_info": {
      "name": "python"
    }
  },
  "cells": [
    {
      "cell_type": "markdown",
      "source": [
        "## Envoronment variables example"
      ],
      "metadata": {
        "id": "EDb6FJTVg5f9"
      }
    },
    {
      "cell_type": "code",
      "execution_count": 4,
      "metadata": {
        "colab": {
          "base_uri": "https://localhost:8080/"
        },
        "id": "G-WrziyMc1da",
        "outputId": "ad6550c1-f0bd-4b02-813e-75fe9583a5a3"
      },
      "outputs": [
        {
          "output_type": "stream",
          "name": "stdout",
          "text": [
            "8is not a prime number\n"
          ]
        }
      ],
      "source": [
        "N = 8\n",
        "is_prime = True\n",
        "for i in range(2, N):\n",
        "  if N % i == 0:\n",
        "    is_prime = False\n",
        "\n",
        "if is_prime:\n",
        "  print(str(N) + \"is a prime number\")\n",
        "else:\n",
        "  print(str(N) + \"is not a prime number\")"
      ]
    },
    {
      "cell_type": "markdown",
      "source": [
        "## Python as a calculator"
      ],
      "metadata": {
        "id": "KEhMOTbPhMKw"
      }
    },
    {
      "cell_type": "markdown",
      "source": [
        "### Addition"
      ],
      "metadata": {
        "id": "4Ykm3xqchc10"
      }
    },
    {
      "cell_type": "code",
      "source": [
        "3 + 6"
      ],
      "metadata": {
        "colab": {
          "base_uri": "https://localhost:8080/"
        },
        "id": "Si-towR0hSK6",
        "outputId": "f0702a23-aaf6-4631-aadf-efea49d4c03a"
      },
      "execution_count": 8,
      "outputs": [
        {
          "output_type": "execute_result",
          "data": {
            "text/plain": [
              "9"
            ]
          },
          "metadata": {},
          "execution_count": 8
        }
      ]
    },
    {
      "cell_type": "code",
      "source": [
        "10 + 20"
      ],
      "metadata": {
        "colab": {
          "base_uri": "https://localhost:8080/"
        },
        "id": "YOuhIIIehzoZ",
        "outputId": "0206f345-1f77-4356-d405-dd80a971c151"
      },
      "execution_count": 9,
      "outputs": [
        {
          "output_type": "execute_result",
          "data": {
            "text/plain": [
              "30"
            ]
          },
          "metadata": {},
          "execution_count": 9
        }
      ]
    },
    {
      "cell_type": "code",
      "source": [
        "2 + 65"
      ],
      "metadata": {
        "colab": {
          "base_uri": "https://localhost:8080/"
        },
        "id": "twGjB5Mxh93n",
        "outputId": "92717f67-6f9b-4846-b7e0-d4248e8adf75"
      },
      "execution_count": 10,
      "outputs": [
        {
          "output_type": "execute_result",
          "data": {
            "text/plain": [
              "67"
            ]
          },
          "metadata": {},
          "execution_count": 10
        }
      ]
    },
    {
      "cell_type": "code",
      "source": [
        "4 + 9"
      ],
      "metadata": {
        "colab": {
          "base_uri": "https://localhost:8080/"
        },
        "id": "_vXvqYIjiLru",
        "outputId": "4df9d82b-925e-4cc6-a358-805903e0cd1c"
      },
      "execution_count": 11,
      "outputs": [
        {
          "output_type": "execute_result",
          "data": {
            "text/plain": [
              "13"
            ]
          },
          "metadata": {},
          "execution_count": 11
        }
      ]
    },
    {
      "cell_type": "markdown",
      "source": [
        "### Substraction"
      ],
      "metadata": {
        "id": "hdhE9wl3iTG6"
      }
    },
    {
      "cell_type": "code",
      "source": [
        "3 - 4"
      ],
      "metadata": {
        "colab": {
          "base_uri": "https://localhost:8080/"
        },
        "id": "XZuqBFuWiWbu",
        "outputId": "d5dab5b3-1df4-4436-b15c-29d38286b4b1"
      },
      "execution_count": 12,
      "outputs": [
        {
          "output_type": "execute_result",
          "data": {
            "text/plain": [
              "-1"
            ]
          },
          "metadata": {},
          "execution_count": 12
        }
      ]
    },
    {
      "cell_type": "code",
      "source": [
        "4 - 6\n",
        "7 - 5"
      ],
      "metadata": {
        "colab": {
          "base_uri": "https://localhost:8080/"
        },
        "id": "t9hjRqIJigdC",
        "outputId": "ab40e9c7-f20f-4501-a01c-597490fe9adb"
      },
      "execution_count": 13,
      "outputs": [
        {
          "output_type": "execute_result",
          "data": {
            "text/plain": [
              "2"
            ]
          },
          "metadata": {},
          "execution_count": 13
        }
      ]
    },
    {
      "cell_type": "code",
      "source": [
        "print(4 - 6)\n",
        "print(7 - 5)"
      ],
      "metadata": {
        "colab": {
          "base_uri": "https://localhost:8080/"
        },
        "id": "N9SZ8c5liriR",
        "outputId": "0e1a09b8-4e8c-4820-d866-b06f33b75a16"
      },
      "execution_count": 14,
      "outputs": [
        {
          "output_type": "stream",
          "name": "stdout",
          "text": [
            "-2\n",
            "2\n"
          ]
        }
      ]
    },
    {
      "cell_type": "markdown",
      "source": [
        "### Multiplications"
      ],
      "metadata": {
        "id": "k5JreBXIix0L"
      }
    },
    {
      "cell_type": "code",
      "source": [
        "45 * 72"
      ],
      "metadata": {
        "colab": {
          "base_uri": "https://localhost:8080/"
        },
        "id": "fXthrBzIi1_F",
        "outputId": "8634b12c-a0e9-437c-cad2-d8821adce3af"
      },
      "execution_count": 15,
      "outputs": [
        {
          "output_type": "execute_result",
          "data": {
            "text/plain": [
              "3240"
            ]
          },
          "metadata": {},
          "execution_count": 15
        }
      ]
    },
    {
      "cell_type": "code",
      "source": [
        "6 * 7"
      ],
      "metadata": {
        "colab": {
          "base_uri": "https://localhost:8080/"
        },
        "id": "MjetqrD_i-Lk",
        "outputId": "c4181040-6db6-420a-a61f-fbac352f0e03"
      },
      "execution_count": 16,
      "outputs": [
        {
          "output_type": "execute_result",
          "data": {
            "text/plain": [
              "42"
            ]
          },
          "metadata": {},
          "execution_count": 16
        }
      ]
    },
    {
      "cell_type": "markdown",
      "source": [
        "### Divisions"
      ],
      "metadata": {
        "id": "uvqfzErZjA-x"
      }
    },
    {
      "cell_type": "code",
      "source": [
        "54 / 6"
      ],
      "metadata": {
        "colab": {
          "base_uri": "https://localhost:8080/"
        },
        "id": "7uC_8m6AjEpl",
        "outputId": "94fda6eb-be94-4ea4-a81b-39271488762e"
      },
      "execution_count": 17,
      "outputs": [
        {
          "output_type": "execute_result",
          "data": {
            "text/plain": [
              "9.0"
            ]
          },
          "metadata": {},
          "execution_count": 17
        }
      ]
    },
    {
      "cell_type": "code",
      "source": [
        "34 / 5"
      ],
      "metadata": {
        "colab": {
          "base_uri": "https://localhost:8080/"
        },
        "id": "JrRbyOzxjKja",
        "outputId": "fdd462a4-aa3f-4524-ee32-464090936d64"
      },
      "execution_count": 18,
      "outputs": [
        {
          "output_type": "execute_result",
          "data": {
            "text/plain": [
              "6.8"
            ]
          },
          "metadata": {},
          "execution_count": 18
        }
      ]
    },
    {
      "cell_type": "markdown",
      "source": [
        "Q. What should we do when need only integers?"
      ],
      "metadata": {
        "id": "FMnTLIErjV34"
      }
    },
    {
      "cell_type": "code",
      "source": [
        "int( 3.5 )"
      ],
      "metadata": {
        "colab": {
          "base_uri": "https://localhost:8080/"
        },
        "id": "Tv-Zv0yCjSYt",
        "outputId": "d904e936-2ad8-4d58-9deb-fd5d281a0d62"
      },
      "execution_count": 19,
      "outputs": [
        {
          "output_type": "execute_result",
          "data": {
            "text/plain": [
              "3"
            ]
          },
          "metadata": {},
          "execution_count": 19
        }
      ]
    },
    {
      "cell_type": "code",
      "source": [
        "int( 54 / 6 )"
      ],
      "metadata": {
        "colab": {
          "base_uri": "https://localhost:8080/"
        },
        "id": "PWJ0JZpnji1L",
        "outputId": "3d04f5cf-47b8-49cd-e910-0b9fea6e3347"
      },
      "execution_count": 21,
      "outputs": [
        {
          "output_type": "execute_result",
          "data": {
            "text/plain": [
              "9"
            ]
          },
          "metadata": {},
          "execution_count": 21
        }
      ]
    },
    {
      "cell_type": "code",
      "source": [
        "int( 34 / 5 )"
      ],
      "metadata": {
        "colab": {
          "base_uri": "https://localhost:8080/"
        },
        "id": "XWa3tlUJjomE",
        "outputId": "b237b755-22a7-4ee5-9920-809b63b1c2e9"
      },
      "execution_count": 22,
      "outputs": [
        {
          "output_type": "execute_result",
          "data": {
            "text/plain": [
              "6"
            ]
          },
          "metadata": {},
          "execution_count": 22
        }
      ]
    },
    {
      "cell_type": "markdown",
      "source": [
        "Quotient operator (//) comes to our resue"
      ],
      "metadata": {
        "id": "9bK9DvPIj-5I"
      }
    },
    {
      "cell_type": "code",
      "source": [
        "54 // 6"
      ],
      "metadata": {
        "colab": {
          "base_uri": "https://localhost:8080/"
        },
        "id": "YKmue6iXjwNC",
        "outputId": "ec22147c-0beb-46aa-a841-b494c2c2f59e"
      },
      "execution_count": 23,
      "outputs": [
        {
          "output_type": "execute_result",
          "data": {
            "text/plain": [
              "9"
            ]
          },
          "metadata": {},
          "execution_count": 23
        }
      ]
    },
    {
      "cell_type": "code",
      "source": [
        "34 // 5"
      ],
      "metadata": {
        "colab": {
          "base_uri": "https://localhost:8080/"
        },
        "id": "d2y3dxLzj62-",
        "outputId": "09a56e4a-b163-438f-f20f-8e76b1ac409b"
      },
      "execution_count": 24,
      "outputs": [
        {
          "output_type": "execute_result",
          "data": {
            "text/plain": [
              "6"
            ]
          },
          "metadata": {},
          "execution_count": 24
        }
      ]
    },
    {
      "cell_type": "markdown",
      "source": [
        "### Modulus operator"
      ],
      "metadata": {
        "id": "0RiZkrxwkEL5"
      }
    },
    {
      "cell_type": "code",
      "source": [
        "54 % 6"
      ],
      "metadata": {
        "colab": {
          "base_uri": "https://localhost:8080/"
        },
        "id": "tFuZrjYQkNnS",
        "outputId": "b6035d7b-a255-4df9-9a7e-9b8e9de17202"
      },
      "execution_count": 25,
      "outputs": [
        {
          "output_type": "execute_result",
          "data": {
            "text/plain": [
              "0"
            ]
          },
          "metadata": {},
          "execution_count": 25
        }
      ]
    },
    {
      "cell_type": "code",
      "source": [
        "34 % 5"
      ],
      "metadata": {
        "colab": {
          "base_uri": "https://localhost:8080/"
        },
        "id": "2rCwrGbskVNn",
        "outputId": "25991577-dd23-482f-9d8a-9d4b61b4f78e"
      },
      "execution_count": 26,
      "outputs": [
        {
          "output_type": "execute_result",
          "data": {
            "text/plain": [
              "4"
            ]
          },
          "metadata": {},
          "execution_count": 26
        }
      ]
    },
    {
      "cell_type": "markdown",
      "source": [
        "### Power operator"
      ],
      "metadata": {
        "id": "CMddcaapkeRY"
      }
    },
    {
      "cell_type": "code",
      "source": [
        "3 ** 2 # 3 raised to the power 2"
      ],
      "metadata": {
        "colab": {
          "base_uri": "https://localhost:8080/"
        },
        "id": "18hE861akhX1",
        "outputId": "8677334d-2191-436c-f706-4ebe6b02460c"
      },
      "execution_count": 27,
      "outputs": [
        {
          "output_type": "execute_result",
          "data": {
            "text/plain": [
              "9"
            ]
          },
          "metadata": {},
          "execution_count": 27
        }
      ]
    },
    {
      "cell_type": "code",
      "source": [
        "2 ** 10 # 2 raised to the power 10"
      ],
      "metadata": {
        "colab": {
          "base_uri": "https://localhost:8080/"
        },
        "id": "GZznLPtbknqq",
        "outputId": "2a7b9772-354a-4e3f-87c8-1dfc4c64cd3e"
      },
      "execution_count": 28,
      "outputs": [
        {
          "output_type": "execute_result",
          "data": {
            "text/plain": [
              "1024"
            ]
          },
          "metadata": {},
          "execution_count": 28
        }
      ]
    },
    {
      "cell_type": "code",
      "source": [
        "16 ** 0.5 # 16 raised to power 0.5 => square root of 16"
      ],
      "metadata": {
        "colab": {
          "base_uri": "https://localhost:8080/"
        },
        "id": "L_EwCDOvk1Xl",
        "outputId": "f95426c2-a186-4673-b727-75c2175f9172"
      },
      "execution_count": 29,
      "outputs": [
        {
          "output_type": "execute_result",
          "data": {
            "text/plain": [
              "4.0"
            ]
          },
          "metadata": {},
          "execution_count": 29
        }
      ]
    },
    {
      "cell_type": "code",
      "source": [
        "27 ** (1/3) # cubic root of 27"
      ],
      "metadata": {
        "colab": {
          "base_uri": "https://localhost:8080/"
        },
        "id": "9TZZTaNalAei",
        "outputId": "42e0af17-353c-403b-a011-7d4e51401469"
      },
      "execution_count": 30,
      "outputs": [
        {
          "output_type": "execute_result",
          "data": {
            "text/plain": [
              "3.0"
            ]
          },
          "metadata": {},
          "execution_count": 30
        }
      ]
    },
    {
      "cell_type": "markdown",
      "source": [
        "Q. Why we need brackets (paranthesis) in above cell 27 ** (1/3)?"
      ],
      "metadata": {
        "id": "vrMS0guPlNRv"
      }
    },
    {
      "cell_type": "code",
      "source": [
        "27 ** 1/3"
      ],
      "metadata": {
        "colab": {
          "base_uri": "https://localhost:8080/"
        },
        "id": "19Zo3_c1lMbK",
        "outputId": "6f2a046a-2179-43d6-cbe7-6e0aa7f320b0"
      },
      "execution_count": 31,
      "outputs": [
        {
          "output_type": "execute_result",
          "data": {
            "text/plain": [
              "9.0"
            ]
          },
          "metadata": {},
          "execution_count": 31
        }
      ]
    },
    {
      "cell_type": "markdown",
      "source": [
        "Ans: PEMDAS: Parentheses, Exponents, Multiplication and Division (from left to right), Addition and Subtraction (from left to right)."
      ],
      "metadata": {
        "id": "_mrUq32Slgld"
      }
    },
    {
      "cell_type": "code",
      "source": [
        "1024 ** (1/10) + 46 *(2+4) "
      ],
      "metadata": {
        "colab": {
          "base_uri": "https://localhost:8080/"
        },
        "id": "8ehz0aOqluwc",
        "outputId": "8816a941-f61f-43d4-b001-d3d47d371317"
      },
      "execution_count": 32,
      "outputs": [
        {
          "output_type": "execute_result",
          "data": {
            "text/plain": [
              "278.0"
            ]
          },
          "metadata": {},
          "execution_count": 32
        }
      ]
    },
    {
      "cell_type": "code",
      "source": [
        "1024 ** 1/10 + 46 *2+4"
      ],
      "metadata": {
        "colab": {
          "base_uri": "https://localhost:8080/"
        },
        "id": "r_0E_2Bkl6wR",
        "outputId": "60677b93-2685-4c31-e4ae-8caf4eb9680a"
      },
      "execution_count": 33,
      "outputs": [
        {
          "output_type": "execute_result",
          "data": {
            "text/plain": [
              "198.4"
            ]
          },
          "metadata": {},
          "execution_count": 33
        }
      ]
    },
    {
      "cell_type": "code",
      "source": [
        "# This is a commment\n",
        "# Second comment"
      ],
      "metadata": {
        "id": "U5MDXojumxHT"
      },
      "execution_count": null,
      "outputs": []
    }
  ]
}