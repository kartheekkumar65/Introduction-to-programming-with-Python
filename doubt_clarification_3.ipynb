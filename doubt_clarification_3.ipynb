{
  "nbformat": 4,
  "nbformat_minor": 0,
  "metadata": {
    "colab": {
      "name": "doubt clarification 3.ipynb",
      "provenance": [],
      "collapsed_sections": []
    },
    "kernelspec": {
      "name": "python3",
      "display_name": "Python 3"
    },
    "language_info": {
      "name": "python"
    }
  },
  "cells": [
    {
      "cell_type": "markdown",
      "source": [
        "Q. Replacing the alphabets in a sentence with next alphabet in english alphabet \\\\\n",
        "Ex:  \\\\\n",
        "given string  : ABC \\\\\n",
        "output string : BCD"
      ],
      "metadata": {
        "id": "GSX8Dlo-fY8r"
      }
    },
    {
      "cell_type": "code",
      "execution_count": 5,
      "metadata": {
        "colab": {
          "base_uri": "https://localhost:8080/"
        },
        "id": "NUfWK16JeCJf",
        "outputId": "0e79902e-1c28-413b-f8d5-751ad6989dcf"
      },
      "outputs": [
        {
          "output_type": "stream",
          "name": "stdout",
          "text": [
            "Tpnfuijoh jt Cfuufs Uibo Opuijoh\n"
          ]
        }
      ],
      "source": [
        "# s = \"Hello World\"\n",
        "s = \"Something is Better Than Nothing\"\n",
        "\n",
        "s1 = \"\"\n",
        "for i in range(len(s)):\n",
        "  c = s[i]\n",
        "  if c != \" \":\n",
        "    s1 = s1 + chr(ord(c) + 1)\n",
        "  else:\n",
        "    s1 = s1 +\" \"\n",
        "\n",
        "print(s1)\n"
      ]
    },
    {
      "cell_type": "code",
      "source": [
        "ord('A')"
      ],
      "metadata": {
        "colab": {
          "base_uri": "https://localhost:8080/"
        },
        "id": "4S2ZitBUgWkg",
        "outputId": "490d53ab-c36c-4a23-cdf9-24cd188fc252"
      },
      "execution_count": 2,
      "outputs": [
        {
          "output_type": "execute_result",
          "data": {
            "text/plain": [
              "65"
            ]
          },
          "metadata": {},
          "execution_count": 2
        }
      ]
    },
    {
      "cell_type": "markdown",
      "source": [
        "Q. Find if S2 is a subsequence of S1"
      ],
      "metadata": {
        "id": "-9Tv2aySk2pG"
      }
    },
    {
      "cell_type": "code",
      "source": [
        "s1 = \"ABCDE\"\n",
        "s2 = \"BE\"\n",
        "\n",
        "i = 0; j = 0; A = True\n",
        "while i < len(s2):\n",
        "\n",
        "  if j >= len(s1):\n",
        "    A = False\n",
        "    break\n",
        "  \n",
        "  c1 = s1[j]\n",
        "  c2 = s2[i]\n",
        "  # print('c1 ', c1, 'c2 ', c2)\n",
        "  \n",
        "  if c1 == c2:\n",
        "    i = i + 1\n",
        "    j = j + 1\n",
        "  \n",
        "  else:\n",
        "    j = j + 1 \n",
        "\n",
        "if A:\n",
        "  print(\"s2 is subsequence of s1\")\n",
        "else:\n",
        "  print(\"s2 is not a subsequence of s1\")\n",
        "\n"
      ],
      "metadata": {
        "colab": {
          "base_uri": "https://localhost:8080/"
        },
        "id": "UK-GIP6Xk6ba",
        "outputId": "4fd77c0f-90a4-4146-87ad-252de1ef72e8"
      },
      "execution_count": 14,
      "outputs": [
        {
          "output_type": "stream",
          "name": "stdout",
          "text": [
            "s2 is subsequence of s1\n"
          ]
        }
      ]
    },
    {
      "cell_type": "markdown",
      "source": [
        "Q. Print the maximum of the given numbers after every input"
      ],
      "metadata": {
        "id": "JW28Sb-SmsB-"
      }
    },
    {
      "cell_type": "code",
      "source": [
        "N = int(input())\n",
        "\n",
        "max_num = -1e10\n",
        "for i in range(N):\n",
        "  M = int(input())\n",
        "  if max_num < M:\n",
        "    max_num = M\n",
        "  print(max_num)\n"
      ],
      "metadata": {
        "colab": {
          "base_uri": "https://localhost:8080/"
        },
        "id": "dZAxG5SWmrX0",
        "outputId": "a0662470-f641-4dc4-c91a-07fcb35bdfdc"
      },
      "execution_count": 16,
      "outputs": [
        {
          "output_type": "stream",
          "name": "stdout",
          "text": [
            "5\n",
            "10\n",
            "10\n",
            "20\n",
            "20\n",
            "-10\n",
            "20\n",
            "-50\n",
            "20\n",
            "100\n",
            "100\n"
          ]
        }
      ]
    }
  ]
}